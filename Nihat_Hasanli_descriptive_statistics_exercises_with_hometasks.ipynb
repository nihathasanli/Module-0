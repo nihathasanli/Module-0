{
 "cells": [
  {
   "cell_type": "markdown",
   "id": "7606c4c9",
   "metadata": {},
   "source": [
    "# Descriptive Statistics Exercises and Solutions\n",
    "This notebook includes basic exercises related to descriptive statistics, including mean, median, mode, variance, and standard deviation."
   ]
  },
  {
   "cell_type": "markdown",
   "id": "e595fff0",
   "metadata": {},
   "source": [
    "## Exercise 1: Calculate Measures of Central Tendency\n",
    "**Task:** Given the following data, calculate the mean, median, and mode:\n",
    "`data = [12, 15, 12, 18, 19, 12, 16, 14, 18, 19]`"
   ]
  },
  {
   "cell_type": "code",
   "execution_count": 4,
   "id": "0f5fc95a",
   "metadata": {},
   "outputs": [
    {
     "name": "stdout",
     "output_type": "stream",
     "text": [
      "15.5\n",
      "15.5\n",
      "12\n"
     ]
    }
   ],
   "source": [
    "import statistics as stats\n",
    "import numpy as np\n",
    "import pandas as pd\n",
    "\n",
    "data = [12, 15, 12, 18, 19, 12, 16, 14, 18, 19]\n",
    "mean = np.mean(data)\n",
    "median = np.median(data)\n",
    "mode = stats.mode(data)\n",
    "mean, median, mode\n",
    "print(mean)\n",
    "print(median)\n",
    "print(mode)"
   ]
  },
  {
   "cell_type": "markdown",
   "id": "fc1c54ca",
   "metadata": {},
   "source": [
    "## Exercise 2: Calculate Measures of Dispersion\n",
    "**Task:** Using the same data, calculate the variance and standard deviation."
   ]
  },
  {
   "cell_type": "code",
   "execution_count": 6,
   "id": "26c18595",
   "metadata": {},
   "outputs": [
    {
     "name": "stdout",
     "output_type": "stream",
     "text": [
      "8.5\n",
      "2.9154759474226504\n"
     ]
    }
   ],
   "source": [
    "variance = np.var(data, ddof=1)  # Sample variance\n",
    "std_dev = np.std(data, ddof=1)  # Sample standard deviation\n",
    "variance, std_dev\n",
    "print(variance)\n",
    "print(std_dev)"
   ]
  },
  {
   "cell_type": "markdown",
   "id": "6a7a86fb",
   "metadata": {},
   "source": [
    "## Exercise 3: Five Number Summary\n",
    "**Task:** Compute the minimum, Q1, median (Q2), Q3, and maximum."
   ]
  },
  {
   "cell_type": "code",
   "execution_count": 12,
   "id": "cfa889dc",
   "metadata": {},
   "outputs": [
    {
     "name": "stdout",
     "output_type": "stream",
     "text": [
      "12\n",
      "12.5\n",
      "15.5\n",
      "18.0\n",
      "19\n"
     ]
    }
   ],
   "source": [
    "min_val = np.min(data)\n",
    "q1 = np.percentile(data, 25)\n",
    "q2 = np.percentile(data, 50)\n",
    "q3 = np.percentile(data, 75)\n",
    "max_val = np.max(data)\n",
    "min_val, q1, q2, q3, max_val\n",
    "print(min_val)\n",
    "print(q1)\n",
    "print(q2)\n",
    "print(q3)\n",
    "print(max_val)"
   ]
  },
  {
   "cell_type": "markdown",
   "id": "66d075cb",
   "metadata": {},
   "source": [
    "## Exercise 4: Visualizing the Data\n",
    "**Task:** Create a boxplot to visualize the distribution of the data."
   ]
  },
  {
   "cell_type": "code",
   "execution_count": 17,
   "id": "f0c100c9",
   "metadata": {},
   "outputs": [
    {
     "data": {
      "image/png": "[encoded data removed]",
      "text/plain": [
       "<Figure size 640x480 with 1 Axes>"
      ]
     },
     "metadata": {},
     "output_type": "display_data"
    }
   ],
   "source": [
    "import matplotlib.pyplot as plt\n",
    "plt.boxplot(data, vert=False)\n",
    "plt.title('Boxplot of Data')\n",
    "plt.xlabel('Values')\n",
    "plt.grid(True)\n",
    "plt.show() #bunsuz veren zaman eyni netice alinir\n"
   ]
  },
  {
   "cell_type": "markdown",
   "id": "206093ce",
   "metadata": {},
   "source": [
    "## 🏠 Homework Tasks for Descriptive Statistics\n",
    "Solve the following tasks independently. Try to interpret your results as well.\n"
   ]
  },
  {
   "cell_type": "markdown",
   "id": "446577d5",
   "metadata": {},
   "source": [
    "### 📌 Homework: Measures of Central Tendency\n",
    "#### Task 1:\n",
    "Given the dataset: `[21, 23, 19, 25, 30, 21, 20, 19, 25, 23]`, calculate the **mean**, **median**, and **mode**.\n",
    "\n",
    "#### Task 2:\n",
    "You surveyed 15 households and collected the following data for the number of children: `[2, 3, 1, 4, 2, 3, 3, 2, 1, 4, 5, 3, 2, 1, 4]`. Find the **mean**, **median**, and **mode**.\n",
    "\n",
    "#### Task 3:\n",
    "In a small company, the monthly salaries (in hundreds) are: `[35, 40, 45, 50, 40, 35, 100, 45, 40, 35]`. Compute the **mean**, **median**, and **mode** and comment on any skewness."
   ]
  },
  {
   "cell_type": "code",
   "execution_count": 19,
   "id": "1d38ea05-2466-437a-8644-9f829af508e6",
   "metadata": {},
   "outputs": [
    {
     "name": "stdout",
     "output_type": "stream",
     "text": [
      "22.6\n",
      "22.0\n",
      "21\n"
     ]
    }
   ],
   "source": [
    "import statistics as stats\n",
    "import numpy as np\n",
    "#import pandas as pd\n",
    "\n",
    "data1 = [21, 23, 19, 25, 30, 21, 20, 19, 25, 23]\n",
    "mean = np.mean(data1)\n",
    "median = np.median(data1)\n",
    "mode = stats.mode(data1)\n",
    "mean, median, mode\n",
    "print(mean)\n",
    "print(median)\n",
    "print(mode)"
   ]
  },
  {
   "cell_type": "markdown",
   "id": "1c768912",
   "metadata": {},
   "source": [
    "### 📌 Homework: Measures of Dispersion\n",
    "#### Task 1:\n",
    "Use the dataset: `[5, 10, 10, 10, 15, 20, 25, 25, 30]` to calculate **variance** and **standard deviation**.\n",
    "\n",
    "#### Task 2:\n",
    "Income levels (in AZN) for 8 families are: `[500, 700, 800, 600, 1200, 1000, 950, 1100]`. Calculate **variance** and **standard deviation**.\n",
    "\n",
    "#### Task 3:\n",
    "Evaluate the spread of scores in a classroom: `[60, 65, 70, 75, 80, 85, 90, 95, 100]`. What are the **sample variance** and **standard deviation**?"
   ]
  },
  {
   "cell_type": "code",
   "execution_count": 20,
   "id": "7b0d7b18-7ec4-4f2c-b04d-a0b23ef811ff",
   "metadata": {},
   "outputs": [
    {
     "name": "stdout",
     "output_type": "stream",
     "text": [
      "75.0\n",
      "8.660254037844387\n"
     ]
    }
   ],
   "source": [
    "data2 = [5, 10, 10, 10, 15, 20, 25, 25, 30]\n",
    "variance = np.var(data2, ddof=1)  # Sample variance\n",
    "std_dev = np.std(data2, ddof=1)  # Sample standard deviation\n",
    "variance, std_dev\n",
    "print(variance)\n",
    "print(std_dev)"
   ]
  },
  {
   "cell_type": "code",
   "execution_count": 33,
   "id": "9e43effe-03a0-447d-8ca7-7d4d86457400",
   "metadata": {},
   "outputs": [
    {
     "name": "stdout",
     "output_type": "stream",
     "text": [
      "61026.78571428572\n",
      "247.03600084660883\n"
     ]
    }
   ],
   "source": [
    "data3 = [500, 700, 800, 600, 1200, 1000, 950, 1100]\n",
    "variance = np.var(data3, ddof=1)  # Sample variance\n",
    "std_dev = np.std(data3, ddof=1)  # Sample standard deviation\n",
    "variance, std_dev\n",
    "print(variance)\n",
    "print(std_dev)"
   ]
  },
  {
   "cell_type": "code",
   "execution_count": 22,
   "id": "05a725b4-6a86-4110-865c-eb5f21db5295",
   "metadata": {},
   "outputs": [
    {
     "name": "stdout",
     "output_type": "stream",
     "text": [
      "25465.277777777774\n",
      "159.5784376968824\n"
     ]
    }
   ],
   "source": [
    "data2 = [560, 65, 70, 75, 80, 85, 90, 95, 100]\n",
    "variance = np.var(data2, ddof=1)  # Sample variance\n",
    "std_dev = np.std(data2, ddof=1)  # Sample standard deviation\n",
    "variance, std_dev\n",
    "print(variance)\n",
    "print(std_dev)"
   ]
  },
  {
   "cell_type": "markdown",
   "id": "9b505403",
   "metadata": {},
   "source": [
    "### 📌 Homework: Five Number Summary\n",
    "#### Task 1:\n",
    "Compute the **five-number summary** for `[100, 102, 105, 107, 110, 113, 115, 117, 120]`.\n",
    "\n",
    "#### Task 2:\n",
    "Given household expenses in a community: `[230, 250, 270, 290, 310, 330, 350, 370, 390, 410]`, calculate the **minimum**, **Q1**, **Q2**, **Q3**, and **maximum**.\n",
    "\n",
    "#### Task 3:\n",
    "Analyze the five-number summary for the number of working hours per week: `[35, 36, 38, 40, 42, 44, 46, 48, 50, 55]`."
   ]
  },
  {
   "cell_type": "code",
   "execution_count": 30,
   "id": "d2f58fa1-e93c-4a1b-9abc-0e7147c08489",
   "metadata": {},
   "outputs": [
    {
     "name": "stdout",
     "output_type": "stream",
     "text": [
      "100\n",
      "105.0\n",
      "110.0\n",
      "115.0\n",
      "120\n"
     ]
    }
   ],
   "source": [
    "data5 = [100, 102, 105, 107, 110, 113, 115, 117, 120]\n",
    "min_val = np.min(data5)\n",
    "q1 = np.percentile(data5, 25)\n",
    "q2 = np.percentile(data5, 50)\n",
    "q3 = np.percentile(data5, 75)\n",
    "max_val = np.max(data5)\n",
    "min_val, q1, q2, q3, max_val\n",
    "print(min_val)\n",
    "print(q1)\n",
    "print(q2)\n",
    "print(q3)\n",
    "print(max_val)"
   ]
  },
  {
   "cell_type": "code",
   "execution_count": 31,
   "id": "8900aef6-8dec-42ef-b683-44e9299d77e1",
   "metadata": {},
   "outputs": [
    {
     "name": "stdout",
     "output_type": "stream",
     "text": [
      "230\n",
      "275.0\n",
      "320.0\n",
      "365.0\n",
      "410\n"
     ]
    }
   ],
   "source": [
    "data5 = [230, 250, 270, 290, 310, 330, 350, 370, 390, 410]\n",
    "min_val = np.min(data5)\n",
    "q1 = np.percentile(data5, 25)\n",
    "q2 = np.percentile(data5, 50)\n",
    "q3 = np.percentile(data5, 75)\n",
    "max_val = np.max(data5)\n",
    "min_val, q1, q2, q3, max_val\n",
    "print(min_val)\n",
    "print(q1)\n",
    "print(q2)\n",
    "print(q3)\n",
    "print(max_val)"
   ]
  },
  {
   "cell_type": "code",
   "execution_count": 32,
   "id": "d4fd98ce-a05d-4023-8418-92de7ffd187c",
   "metadata": {},
   "outputs": [
    {
     "name": "stdout",
     "output_type": "stream",
     "text": [
      "35\n",
      "38.5\n",
      "43.0\n",
      "47.5\n",
      "55\n"
     ]
    }
   ],
   "source": [
    "data5 = [35, 36, 38, 40, 42, 44, 46, 48, 50, 55]\n",
    "min_val = np.min(data5)\n",
    "q1 = np.percentile(data5, 25)\n",
    "q2 = np.percentile(data5, 50)\n",
    "q3 = np.percentile(data5, 75)\n",
    "max_val = np.max(data5)\n",
    "min_val, q1, q2, q3, max_val\n",
    "print(min_val)\n",
    "print(q1)\n",
    "print(q2)\n",
    "print(q3)\n",
    "print(max_val)"
   ]
  },
  {
   "cell_type": "code",
   "execution_count": null,
   "id": "e86456e7-9699-4556-b3de-824356ca1d6e",
   "metadata": {},
   "outputs": [],
   "source": []
  }
 ],
 "metadata": {
  "kernelspec": {
   "display_name": "Python [conda env:base] *",
   "language": "python",
   "name": "conda-base-py"
  },
  "language_info": {
   "codemirror_mode": {
    "name": "ipython",
    "version": 3
   },
   "file_extension": ".py",
   "mimetype": "text/x-python",
   "name": "python",
   "nbconvert_exporter": "python",
   "pygments_lexer": "ipython3",
   "version": "3.13.5"
  }
 },
 "nbformat": 4,
 "nbformat_minor": 5
}
